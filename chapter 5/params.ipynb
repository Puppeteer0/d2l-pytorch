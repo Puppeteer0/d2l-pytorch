{
 "cells": [
  {
   "cell_type": "code",
   "execution_count": 12,
   "metadata": {},
   "outputs": [
    {
     "data": {
      "text/plain": [
       "tensor([[-0.1473]], grad_fn=<AddmmBackward0>)"
      ]
     },
     "execution_count": 12,
     "metadata": {},
     "output_type": "execute_result"
    }
   ],
   "source": [
    "import torch\n",
    "from torch import nn\n",
    "\n",
    "net = nn.Sequential(nn.Linear(4, 8), \n",
    "                    nn.ReLU(), \n",
    "                    nn.Linear(8, 1))\n",
    "X = torch.rand(size=(1, 4))\n",
    "net(X)"
   ]
  },
  {
   "cell_type": "code",
   "execution_count": 13,
   "metadata": {},
   "outputs": [
    {
     "name": "stdout",
     "output_type": "stream",
     "text": [
      "tensor([[0.8302, 0.2974, 0.0272, 0.5284]])\n",
      "OrderedDict([('weight', tensor([[-0.4024,  0.3664,  0.0060, -0.1577],\n",
      "        [-0.3408, -0.0872, -0.2367, -0.0266],\n",
      "        [-0.1968, -0.0584,  0.4482, -0.4525],\n",
      "        [-0.0919, -0.2363, -0.2560, -0.4725],\n",
      "        [-0.1788,  0.0708, -0.1163,  0.4425],\n",
      "        [ 0.2897, -0.2370,  0.3259,  0.1943],\n",
      "        [ 0.1366, -0.2246, -0.1065,  0.3403],\n",
      "        [ 0.3250,  0.4952,  0.1461, -0.2350]])), ('bias', tensor([-0.3102,  0.2481,  0.4183,  0.3551,  0.1184,  0.3330, -0.0063, -0.0440]))])\n",
      "OrderedDict()\n",
      "OrderedDict([('weight', tensor([[ 0.1858,  0.3494,  0.2727,  0.0977,  0.0427, -0.1381,  0.2426,  0.3440]])), ('bias', tensor([-0.2144]))])\n"
     ]
    }
   ],
   "source": [
    "print(X)\n",
    "print(net[0].state_dict())\n",
    "print(net[1].state_dict())\n",
    "print(net[2].state_dict())"
   ]
  },
  {
   "cell_type": "code",
   "execution_count": null,
   "metadata": {},
   "outputs": [],
   "source": []
  }
 ],
 "metadata": {
  "kernelspec": {
   "display_name": "gpu",
   "language": "python",
   "name": "gpu"
  },
  "language_info": {
   "codemirror_mode": {
    "name": "ipython",
    "version": 3
   },
   "file_extension": ".py",
   "mimetype": "text/x-python",
   "name": "python",
   "nbconvert_exporter": "python",
   "pygments_lexer": "ipython3",
   "version": "3.8.5"
  }
 },
 "nbformat": 4,
 "nbformat_minor": 4
}
